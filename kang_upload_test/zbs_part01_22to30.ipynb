{
 "cells": [
  {
   "cell_type": "markdown",
   "metadata": {},
   "source": [
    "# 22강부터 30강까지"
   ]
  },
  {
   "cell_type": "markdown",
   "metadata": {},
   "source": [
    "\n",
    "## 22강 팩토리얼\n",
    "---\n",
    "- 1부터 양의 정수 n까지의 정수를 모두 곱한 것\n",
    "0!은 1로 약속\n",
    "\n",
    "1!은 1\n",
    "\n",
    "2!은 1*2 =2\n",
    "\n",
    "3!은 1*2*3 = 6\n"
   ]
  },
  {
   "cell_type": "code",
   "execution_count": null,
   "metadata": {},
   "outputs": [],
   "source": [
    "#반복문을 이용해 팩토리얼 결과값을 출력하기\n",
    "# for 문을 이용\n",
    "input_n = int(input(\"n 입력 : \"))\n",
    "result = 1\n",
    "for n in range(1, input_n + 1):\n",
    "    result *= n\n",
    "    \n",
    "print(\"{} 팩토리얼 = {}\".format(input_n, result))\n",
    "\n",
    "#while 문을 이용한 방법\n",
    "\n"
   ]
  },
  {
   "cell_type": "code",
   "execution_count": null,
   "metadata": {},
   "outputs": [],
   "source": [
    "#while 문을 이용한 방법\n",
    "input_n = int(input(\"n 입력 : \"))\n",
    "result = 1\n",
    "while n <= input_n:\n",
    "    result *= n\n",
    "    n += 1\n",
    "    \n",
    "print(\"{} 팩토리얼 = {}\".format(input_n, result))\n",
    "\n"
   ]
  },
  {
   "cell_type": "code",
   "execution_count": 18,
   "metadata": {},
   "outputs": [
    {
     "name": "stdout",
     "output_type": "stream",
     "text": [
      "3 팩토리얼 = 6\n"
     ]
    }
   ],
   "source": [
    "# 재귀 함수를 이용한 방법\n",
    "input_n = int(input(\"n 입력 : \"))\n",
    "#함수 정의\n",
    "def factorialFun(n):\n",
    "    if n == 1 : return 1\n",
    "    \n",
    "    return n *factorialFun(n - 1) # 함수 정의를 하면서 다시 그 함수를 불러냄\n",
    "# n-1 을  하면서 계속 돌다가 1이 되는 경우 빠져나감\n",
    "\n",
    "print(\"{} 팩토리얼 = {}\".format(input_n, factorialFun(input_n)))"
   ]
  },
  {
   "cell_type": "markdown",
   "metadata": {},
   "source": [
    "## 23강 군수열\n",
    "--- \n",
    "- 여러 개의 항을 묶었을 때 규칙성을 가지는 수열\n",
    "\n",
    "1, 1, 2, 1, 2, 3, 1, 2, 3, 4...\n",
    "\n",
    "(1), (1, 2), (1, 2, 3), (1, 2, 3, 4) 이런식으로 묶이는 것\n"
   ]
  },
  {
   "cell_type": "code",
   "execution_count": 9,
   "metadata": {},
   "outputs": [
    {
     "name": "stdout",
     "output_type": "stream",
     "text": [
      "1 \n",
      "1,2 \n",
      "1,2,3 \n",
      "1,2,3,4 \n",
      "1,2,3,4,5 \n",
      "15항 : 5\n"
     ]
    }
   ],
   "source": [
    "# 군수열 구현하기\n",
    "# n 항의 값을 출력하도록 만들기\n",
    "input_n = int(input(\"n 입력 : \"))\n",
    "\n",
    "flag = True\n",
    "n = 1; nCnt = 1; searchN = 0\n",
    "\n",
    "while flag:\n",
    "    #문은 군안에서 돌아가는 반복문. 1/12/123/1234 이런식으로 반복\n",
    "    for i in range(1, (n+1)):\n",
    "        if i == n: #끝항이라면\n",
    "            print(\"{0} \".format(i), end = '') #콤마를 찍지 말고\n",
    "        else :\n",
    "            print(\"{0},\".format(i), end = '') #끝이 아니면 콤마를 찍고\n",
    "        \n",
    "        nCnt += 1\n",
    "        \n",
    "        if (nCnt > input_n) :\n",
    "            searchN = i\n",
    "            flag = False\n",
    "            break\n",
    "        \n",
    "    print()\n",
    "    n += 1\n",
    "\n",
    "print(\"{0}항 : {1}\".format(input_n, searchN))\n",
    "        \n"
   ]
  },
  {
   "cell_type": "code",
   "execution_count": 10,
   "metadata": {},
   "outputs": [
    {
     "name": "stdout",
     "output_type": "stream",
     "text": [
      "1/1 \n",
      "1/2,2/1 \n",
      "1/3,2/2,3/1 \n",
      "1/4,2/3,3/2,4/1 \n",
      "1/5,2/4,3/3,4/2,5/1 \n",
      "15항 : 5/1\n"
     ]
    }
   ],
   "source": [
    "# 다음 수열을 보고 n번째 항의 값을 출력하도록 만들자  \n",
    "'''\n",
    "1/1,(1/2,2/1),(1/3,2/2,3/1),(1/4,2/3,3/2,4/1) 이런 식으로.. 분모가 존재함\n",
    "'''\n",
    "\n",
    "input_n = int(input(\"n 입력 : \"))\n",
    "\n",
    "flag = True\n",
    "n = 1; nCnt = 1; searchNC= 0; searchNP = 0\n",
    "\n",
    "while flag:\n",
    "    #문은 군안에서 돌아가는 반복문. 1/12/123/1234 이런식으로 반복\n",
    "    for i in range(1, (n+1)):\n",
    "        if i == n: #끝항이라면\n",
    "            print(\"{0}/{1} \".format(i, (n - i + 1)), end = '') #콤마를 찍지 말고\n",
    "        else :\n",
    "            print(\"{0}/{1},\".format(i, (n - i + 1)), end = '') #끝이 아니면 콤마를 찍고\n",
    "        \n",
    "        nCnt += 1\n",
    "        \n",
    "        if (nCnt > input_n) :\n",
    "            searchNC = i\n",
    "            searchNP = n - i + 1\n",
    "            flag = False\n",
    "            break\n",
    "        \n",
    "    print()\n",
    "    n += 1\n",
    "\n",
    "print(\"{0}항 : {1}/{2}\".format(input_n, searchNC, searchNP))"
   ]
  },
  {
   "cell_type": "markdown",
   "metadata": {},
   "source": [
    "## 25강 순열\n",
    "---\n",
    "\n",
    "- 일렬로 나열하는 경우의 수\n",
    "- 순서가 존재해서 중요함\n",
    "- 팩토리얼을 이용해서 나타낼 수 있다(n!/(n-r!))\n",
    "\n",
    "nPr = n(n-1)(n-2)(n-3)...(n-r+1)이런식으로\n",
    "\n",
    "### 원순열\n",
    "\n",
    "- 시작과 끝의 구분이 없는 순열\n",
    "- 일직선으로 나열을 하면 6가지가 나오지만 원모양 형태로 나오면 3개 3개가 같은 것으로 취급 받아서 2가지 경우밖에 안나오는 것\n",
    "n!/n 혹은 (n-1)!"
   ]
  },
  {
   "cell_type": "code",
   "execution_count": 13,
   "metadata": {},
   "outputs": [
    {
     "name": "stdout",
     "output_type": "stream",
     "text": [
      "n : 8\n",
      "n : 7\n",
      "n : 6\n",
      "result : 336\n"
     ]
    }
   ],
   "source": [
    "'''\n",
    "순열\n",
    "8P3, 7P5를 구해보자\n",
    "\n",
    "'''\n",
    "\n",
    "input_n = int(input(\"n 입력 : \"))\n",
    "input_r = int(input(\"r 입력 : \"))\n",
    "result = 1 \n",
    "\n",
    "for n in range(input_n, (input_n - input_r), -1): #여기서 맨 마지막 마이너스1은 거꾸로를 뜻함\n",
    "    print('n : {0}'.format(n))\n",
    "    result = result * n\n",
    "print('result : {0}'.format(result))"
   ]
  },
  {
   "cell_type": "code",
   "execution_count": 16,
   "metadata": {},
   "outputs": [
    {
     "name": "stdout",
     "output_type": "stream",
     "text": [
      "n : 7\n",
      "n : 6\n",
      "n : 5\n",
      "n : 4\n",
      "n : 3\n",
      "result : 2520\n"
     ]
    }
   ],
   "source": [
    "#함수화 \n",
    "def permu():\n",
    "    input_n = int(input(\"n 입력 : \"))\n",
    "    input_r = int(input(\"r 입력 : \"))\n",
    "    result = 1 \n",
    "\n",
    "    for n in range(input_n, (input_n - input_r), -1): #여기서 맨 마지막 마이너스1은 거꾸로를 뜻함\n",
    "        print('n : {0}'.format(n))\n",
    "        result = result * n\n",
    "    return print('result : {0}'.format(result))\n",
    "\n",
    "permu()"
   ]
  },
  {
   "cell_type": "code",
   "execution_count": 12,
   "metadata": {},
   "outputs": [
    {
     "name": "stdout",
     "output_type": "stream",
     "text": [
      "8P3 = 336.0\n"
     ]
    }
   ],
   "source": [
    "# 재귀 함수를 이용한 방법\n",
    "input_n = int(input(\"n 입력 : \"))\n",
    "input_r = int(input(\"r 입력 : \"))\n",
    "#함수 정의\n",
    "def factorialFun(n):\n",
    "    if n == 1 : return 1\n",
    "    \n",
    "    return n *factorialFun(n - 1) # 함수 정의를 하면서 다시 그 함수를 불러냄\n",
    "# n-1 을  하면서 계속 돌다가 1이 되는 경우 빠져나감\n",
    "\n",
    "print(\"{0}P{1} = {2}\".format(input_n, input_r, factorialFun(input_n)/factorialFun(input_n-input_r)))"
   ]
  },
  {
   "cell_type": "code",
   "execution_count": 17,
   "metadata": {},
   "outputs": [
    {
     "name": "stdout",
     "output_type": "stream",
     "text": [
      "경우의 수 : 6\n"
     ]
    }
   ],
   "source": [
    "# 원순열\n",
    "'''\n",
    "4명의 친구가 원탁 테이블에 앉는 경우를 생각해보자\n",
    "'''\n",
    "\n",
    "n = int(input(\"친구 수 n을 입력 : \"))\n",
    "\n",
    "result = 1\n",
    "\n",
    "for i in range(1, n): # for문이므로 1부터 n-1까지 계산함\n",
    "    result *= i\n",
    "    \n",
    "print(\"경우의 수 : {}\".format(result))"
   ]
  },
  {
   "cell_type": "code",
   "execution_count": 27,
   "metadata": {},
   "outputs": [
    {
     "name": "stdout",
     "output_type": "stream",
     "text": [
      "4의 원순열 경우의 수 = 6.0\n"
     ]
    }
   ],
   "source": [
    "# 공식을 활용한 원순열\n",
    "'''\n",
    "n!/n 혹은 (n-1)!\n",
    "기존 팩토리얼 할때 배웠던 함수를 이용\n",
    "'''\n",
    "#함수 정의\n",
    "input_n = int(input(\"친구 수 n을 입력 : \"))\n",
    "\n",
    "def factorialFun(n):\n",
    "    if n == 1 : return 1\n",
    "    \n",
    "    return n *factorialFun(n - 1) # 함수 정의를 하면서 다시 그 함수를 불러냄\n",
    "# n-1 을  하면서 계속 돌다가 1이 되는 경우 빠져나감\n",
    "\n",
    "result001 = int(factorialFun(input_n)/input_n)\n",
    "\n",
    "print(\"{0}의 원순열 경우의 수 = {1}\".format(n, result001))\n",
    "\n",
    "\n",
    "\n"
   ]
  },
  {
   "cell_type": "markdown",
   "metadata": {},
   "source": [
    "## 27강 조합\n",
    "---\n",
    "\n",
    "- 순서 상관 없이 r개를 선택하는 것\n",
    "\n",
    "\n",
    "예) 1,2,3 중 2개를 뽑을 경우\\n\n",
    "12, 13, 23 3가지 경우만 존재\\n\n",
    "\n",
    "이럴 때 3C2 라고 표현함\n",
    "\n",
    "식: nCr = nPr/r! = n!/r!*(n-r)!\n"
   ]
  },
  {
   "cell_type": "code",
   "execution_count": 29,
   "metadata": {},
   "outputs": [
    {
     "name": "stdout",
     "output_type": "stream",
     "text": [
      "n : 5\n",
      "n : 4\n",
      "resultP: 20\n",
      "n : 2\n",
      "n : 1\n",
      "resultR: 2\n",
      "resultC: 10\n",
      "10.0%의 확률\n"
     ]
    }
   ],
   "source": [
    "'''\n",
    "파이썬을 이용해서 다음 조합들을 구해보자\n",
    "모듈이 있지만 사용 하지 말것\n",
    "8C3, 7C5\n",
    "'''\n",
    "\n",
    "\n",
    "input_n = int(input(\"n 입력 : \"))\n",
    "input_r = int(input(\"r 입력 : \"))\n",
    "resultP = 1\n",
    "resultR = 1\n",
    "resultC = 1\n",
    "\n",
    "for n in range(input_n, (input_n - input_r), -1):\n",
    "    print(\"n : {0}\".format(n))\n",
    "    resultP = resultP * n\n",
    "    \n",
    "print(\"resultP: {0}\".format(resultP))\n",
    "\n",
    "for n in range(input_r, 0, -1):\n",
    "    print(\"n : {0}\".format(n))\n",
    "    resultR = resultR * n\n",
    "    \n",
    "print(\"resultR: {0}\".format(resultR))\n",
    "\n",
    "resultC = int(resultP / resultR)\n",
    "print(\"resultC: {0}\".format(resultC))\n",
    "\n",
    "#확률\n",
    "result = (1/resultC) * 100\n",
    "print(\"{0}%의 확률\".format(round(result, 2)))"
   ]
  },
  {
   "cell_type": "markdown",
   "metadata": {},
   "source": [
    "## 29강 확률\n",
    "---\n",
    "\n",
    "- 모든 사건에서 특정 사건이 일어날 수 있는 수를 나타낸 것\n",
    "- 예) 동전의 경우 앞면이 나올 확률 1/2 50% \n",
    "\n",
    "- 모든 사건은 표본 공간 \n",
    "- 특정 사건은 샘플이라고 함\n",
    "- 예) 동전의 경우 표본 공간은 2가지 경우, 앞면만 나올 특정 사건은 1/2의 확률로 1가지 경우\n",
    "\n",
    "- 확률과 조합\n",
    "-> 조합을 이용해서 확률을 알아낼 수 있다.\n",
    "\n",
    "예시) 박스에 꽝이 적힌 종이가 4장, 선물이 3장\n",
    "\n",
    "3장의 경우 다음 경우의 수를 구해라\n",
    "\n",
    "꽝 0, 선물 3인 경우 : 7C3 = 35가지 경우 중 선물 3인 경우는 1가지 그래서 확률은 1/35"
   ]
  },
  {
   "cell_type": "code",
   "execution_count": 31,
   "metadata": {},
   "outputs": [],
   "source": [
    "'''\n",
    "박스에 꽝이 적힌 종이가 4장, 선물이 3장\n",
    "3장의 경우 다음 확률을 구해라\n",
    "\n",
    "꽝 2, 선물 1인 경우 \n",
    "4C2 * 2C1 / 7C3 = 6 * 3 / 35 = 18 / 35\n",
    "전체 경우 7C3\n",
    "꽝이 4장이므로 4장 중 2장이 나올 경우 4C2\n",
    "선물이 3장이므로 3장 중 1장이 나올 경우 3C1\n",
    "\n",
    "'''\n",
    "#함수로 만들기\n",
    "\n",
    "def proFun():\n",
    "    #변수 선언\n",
    "    numN = int(input(\"numN을 입력 : \"))\n",
    "    numR = int(input(\"numR을 입력 : \"))\n",
    "\n",
    "    resultP = 1\n",
    "    resultR = 1\n",
    "    resultC = 1 #최종 값\n",
    "\n",
    "    # 순열을 구하기\n",
    "    for n in range(numN, (numN - numR), -1): #1씩 차감하면서 내려옴\n",
    "        resultP = resultP * n\n",
    "    print(\"resultP: {0}\".format(resultP))\n",
    "\n",
    "    #팩토리얼 구하기\n",
    "    for n in range(numR, 0, -1):\n",
    "        print(\"n : {0}\".format(n))\n",
    "        resultR = resultR * n\n",
    "    print(\"resultR: {0}\".format(resultR))\n",
    "\n",
    "\n",
    "    resultC = int(resultP / resultR)\n",
    "    print(\"resultC: {0}\".format(resultC))\n",
    "\n",
    "    #확률\n",
    "    result = (1/resultC) * 100\n",
    "    print(\"{0}%의 확률\".format(round(result, 2)))\n",
    "    \n",
    "    return resultC\n"
   ]
  },
  {
   "cell_type": "code",
   "execution_count": 33,
   "metadata": {},
   "outputs": [
    {
     "name": "stdout",
     "output_type": "stream",
     "text": [
      "resultP: 210\n",
      "n : 3\n",
      "n : 2\n",
      "n : 1\n",
      "resultR: 6\n",
      "resultC: 35\n",
      "2.86%의 확률\n",
      "sample: 35\n",
      "resultP: 12\n",
      "n : 2\n",
      "n : 1\n",
      "resultR: 2\n",
      "resultC: 6\n",
      "16.67%의 확률\n",
      "event1: 6\n",
      "resultP: 3\n",
      "n : 1\n",
      "resultR: 1\n",
      "resultC: 3\n",
      "33.33%의 확률\n",
      "event2: 3\n",
      "확률 : 51.42857142857142%\n"
     ]
    }
   ],
   "source": [
    "# 전체 값, 샘플 데이터 여기서는 7C3\n",
    "sample = proFun()\n",
    "print(\"sample: {0}\".format(sample))\n",
    "\n",
    "#꽝인 경우 4C2\n",
    "event1 = proFun()\n",
    "print(\"event1: {0}\".format(event1))\n",
    "#선물인 경우 3C1\n",
    "event2 = proFun()\n",
    "print(\"event2: {0}\".format(event2))\n",
    "\n",
    "probability = (event1 * event2) / sample * 100\n",
    "print (\"확률 : {0}%\".format(probability))"
   ]
  }
 ],
 "metadata": {
  "interpreter": {
   "hash": "9d3bae0a0f66551680ef8a166f6b92cc2774d5d7901f027deb7bb883ed06d5ae"
  },
  "kernelspec": {
   "display_name": "Python 3.9.7 64-bit ('base': conda)",
   "language": "python",
   "name": "python3"
  },
  "language_info": {
   "codemirror_mode": {
    "name": "ipython",
    "version": 3
   },
   "file_extension": ".py",
   "mimetype": "text/x-python",
   "name": "python",
   "nbconvert_exporter": "python",
   "pygments_lexer": "ipython3",
   "version": "3.9.7"
  },
  "orig_nbformat": 4
 },
 "nbformat": 4,
 "nbformat_minor": 2
}
