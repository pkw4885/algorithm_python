{
 "cells": [
  {
   "cell_type": "markdown",
   "metadata": {},
   "source": [
    "# 15강 -21강\n",
    "## 15강 등비수열\n",
    "연속된 두 항의 비가 일정한 수열\n",
    "\n",
    "1, 3, 9, 81... 이런식... 여기서 3씩 곱해지는 것을 공비(r) 라고 함.\n",
    "\n",
    "일반항\n",
    "an = a1 * r^(n-1)\n",
    "an항과 a(n-1)을 나누면 공비 r이 나옴\n",
    "\n",
    "등비수열의 합\n",
    "sn = a1 *(1-(r^n)) /(1-r)"
   ]
  },
  {
   "cell_type": "code",
   "execution_count": 6,
   "metadata": {},
   "outputs": [
    {
     "name": "stdout",
     "output_type": "stream",
     "text": [
      "1번째 항의 값 : 1\n",
      "2번째 항의 값 : 2\n",
      "3번째 항의 값 : 4\n",
      "4번째 항의 값 : 8\n",
      "4 번째 항까지의 등비수열 : [1, 2, 4, 8]\n"
     ]
    }
   ],
   "source": [
    "# 반복문을 이용하여 등비수열 파이썬으로 구현하기\n",
    "input_n01 =int(input(\"a1 입력: \"))\n",
    "input_r =int(input(\"공비 입력: \"))\n",
    "input_n =int(input(\"n 입력: \"))\n",
    "\n",
    "valuen = 0\n",
    "n = 1\n",
    "an = [] #등비수열을 담을 리스트\n",
    "while n<= input_n:\n",
    "    if n == 1:\n",
    "        valuen = input_n01\n",
    "        print(\"{0}번째 항의 값 : {1}\".format(n,valuen))\n",
    "        an.append(valuen)\n",
    "        n += 1\n",
    "        continue\n",
    "    \n",
    "    valuen *= input_r\n",
    "    print(\"{0}번째 항의 값 : {1}\".format(n,valuen))\n",
    "    an.append(valuen)\n",
    "    n += 1\n",
    "    \n",
    "print(\"{0}번째 항까지의 등비수열 : {1}\".format(n-1, an))"
   ]
  },
  {
   "cell_type": "code",
   "execution_count": 14,
   "metadata": {},
   "outputs": [
    {
     "name": "stdout",
     "output_type": "stream",
     "text": [
      "첫항이 1이고, 공비가 2인 등비수열의 7번째 항의 값: 64\n"
     ]
    }
   ],
   "source": [
    "# 등비수열의 공식을 이용해서 n번째 등비수열 값 알려주기\n",
    "input_n01 =int(input(\"a1 입력: \"))\n",
    "input_r =int(input(\"공비 입력: \"))\n",
    "input_n =int(input(\"n 입력: \"))\n",
    "\n",
    "# 등비수열에서 n번째의 값은 첫번째 항*(공비^(n-1))\n",
    "valuen = input_n01 * (input_r ** (input_n-1)) \n",
    "\n",
    "print(\"첫항이 {0}이고, 공비가 {1}인 등비수열의 {2}번째 항의 값: {3}\".format(input_n01, input_r, input_n, valuen))\n"
   ]
  },
  {
   "cell_type": "code",
   "execution_count": 16,
   "metadata": {},
   "outputs": [
    {
     "name": "stdout",
     "output_type": "stream",
     "text": [
      "1번째 항의 합 : 1\n",
      "2번째 항의 합 : 3\n",
      "3번째 항의 합 : 7\n",
      "4번째 항의 합 : 15\n",
      "5번째 항의 합 : 31\n",
      "6번째 항의 합 : 63\n",
      "7번째 항의 합 : 127\n",
      "7번째 항까지의 등비수열 : [1, 2, 4, 8, 16, 32, 64]\n",
      "7번째 항까지의 등비수열의 합 : 127\n"
     ]
    }
   ],
   "source": [
    "# n 번째 항까지 합을 출력하는 프로그램을 만들어보자\n",
    "input_n01 =int(input(\"a1 입력: \"))\n",
    "input_r =int(input(\"공비 입력: \"))\n",
    "input_n =int(input(\"n 입력: \"))\n",
    "\n",
    "\n",
    "#초기화\n",
    "valuen = 0\n",
    "sum_n = 0\n",
    "n = 1\n",
    "an = [] #수열을 담을 리스트\n",
    "#반복문을 활용\n",
    "while n<= input_n:\n",
    "    if n == 1:\n",
    "        valuen = input_n01\n",
    "        sum_n += valuen # 합\n",
    "        #print(\"{0}번째 항의 합 : {1}\".format(n,sum_n))\n",
    "        an.append(valuen)\n",
    "        n += 1\n",
    "        continue\n",
    "    \n",
    "    valuen *= input_r\n",
    "    sum_n += valuen # n번째 항까지 수열의 합을 계속 더함\n",
    "    #print(\"{0}번째 항의 합 : {1}\".format(n,sum_n))\n",
    "    an.append(valuen)\n",
    "    n += 1\n",
    "\n",
    "print(\"{0}번째 항까지의 등비수열 : {1}\".format(input_n, an))    \n",
    "print(\"{0}번째 항까지의 등비수열의 합 : {1}\".format(input_n, sum_n))"
   ]
  },
  {
   "cell_type": "code",
   "execution_count": 22,
   "metadata": {},
   "outputs": [
    {
     "name": "stdout",
     "output_type": "stream",
     "text": [
      "첫항이 2이고, 공비가 2인 등비수열의 6번째 항까지의 합: 126\n"
     ]
    }
   ],
   "source": [
    "#공식을 활용\n",
    "#input 값 선언\n",
    "input_n01 =int(input(\"a1 입력: \"))\n",
    "input_r =int(input(\"공비 입력: \"))\n",
    "input_n =int(input(\"n 입력: \"))\n",
    "\n",
    "# 공식을 활용해서 등비수열의 합 구하기\n",
    "sn = input_n01 * (1-(input_r ** input_n)) / (1-input_r) # **은 제곱을 뜻함\n",
    "sn = int(sn)\n",
    "print(\"첫항이 {0}이고, 공비가 {1}인 등비수열의 {2}번째 항까지의 합: {3}\".format(input_n01, input_r, input_n, sn))"
   ]
  },
  {
   "cell_type": "markdown",
   "metadata": {},
   "source": [
    "## 시그마\n",
    "- 수열의 합을 나타내는 기호\n",
    "\n",
    "sn = a1 + a2 + a3 + a4 ... + an 를 시그마를 통해 표현이 가능함\n",
    "\n",
    "- 등차수열 합의 공식\n",
    "sn = n(a1+an) / 2\n",
    "\n",
    "- 등비수열 합의 공식\n",
    "sn = a1 *(1-(r^n)) /(1-r)"
   ]
  },
  {
   "cell_type": "code",
   "execution_count": 27,
   "metadata": {},
   "outputs": [
    {
     "name": "stdout",
     "output_type": "stream",
     "text": [
      "5번째 항까지의 등차수열의 합 : 150\n"
     ]
    }
   ],
   "source": [
    "# 등차수열\n",
    "\n",
    "in_01 = int((input('a1 입력: ')))\n",
    "in_d = int(input(\"공차 입력: \"))\n",
    "in_n = int(input(\"n값 입력: \"))\n",
    "#초기화\n",
    "valuen = 0 #n 번째 항의 값\n",
    "sum_n = 0 #n 번째 항까지의 합\n",
    "\n",
    "#n 번째 항의 값\n",
    "valuen = in_01 +(in_n - 1) * in_d\n",
    "valuen = int(valuen)\n",
    "# 등차수열 합의 공식을 이용\n",
    "sum_n = in_n * (in_01 + valuen) / 2\n",
    "sum_n =int(sum_n)\n",
    "print(\"{0}번째 항까지의 등차수열의 합 : {1}\".format(in_n, sum_n))"
   ]
  },
  {
   "cell_type": "code",
   "execution_count": 28,
   "metadata": {},
   "outputs": [
    {
     "name": "stdout",
     "output_type": "stream",
     "text": [
      "첫항이 1이고, 공비가 2인 등비수열의 7번째 항까지의 합: 127\n"
     ]
    }
   ],
   "source": [
    "# 등비수열 \n",
    "\n",
    "#input 값 선언\n",
    "input_n01 =int(input(\"a1 입력: \"))\n",
    "input_r =int(input(\"공비 입력: \"))\n",
    "input_n =int(input(\"n 입력: \"))\n",
    "\n",
    "sn = input_n01 * (1-(input_r ** input_n)) / (1-input_r) # **은 제곱을 뜻함\n",
    "sn = int(sn)\n",
    "print(\"첫항이 {0}이고, 공비가 {1}인 등비수열의 {2}번째 항까지의 합: {3}\".format(input_n01, input_r, input_n, sn))"
   ]
  },
  {
   "cell_type": "markdown",
   "metadata": {},
   "source": [
    "## 계차수열\n",
    "\n",
    "- 두항의 차로 이루어진 또 다른 수열\n",
    "an = 0 3 8 15 24... 이런식으로 공차가 1,2항간 3 2,3항간 5 이런식으로 두항의 차가 점점 커짐\n",
    "bn = 3, 5, 7, 9... 공차가 2인 등차수열\n",
    "\n",
    "bn은 an의 계차 수열\n",
    "\n",
    "b1 = a2 - a1\n",
    "b2 = a3 - a2\n",
    "bn-1 항 = an - an-1항\n",
    "이런식으로 내려감\n",
    "\n",
    "an의 일반항은 \n",
    "an = n ^ 2 -1 \n",
    "\n"
   ]
  },
  {
   "cell_type": "code",
   "execution_count": 35,
   "metadata": {},
   "outputs": [
    {
     "name": "stdout",
     "output_type": "stream",
     "text": [
      "an의 1번째 항의 값 : 3\n",
      "bn의 1번째 항의 값 : 4\n",
      "an의 2번째 항의 값 : 7\n",
      "bn의 2번째 항의 값 : 6\n",
      "an의 3번째 항의 값 : 13\n",
      "bn의 3번째 항의 값 : 8\n",
      "an의 4번째 항의 값 : 21\n",
      "bn의 4번째 항의 값 : 10\n",
      "an의 5번째 항의 값 : 31\n",
      "bn의 5번째 항의 값 : 12\n",
      "an의 6번째 항의 값 : 43\n",
      "bn의 6번째 항의 값 : 14\n",
      "an의 7번째 항의 값 : 57\n",
      "bn의 7번째 항의 값 : 16\n",
      "an의 8번째 항의 값 : 57\n",
      "bn의 8번째 항의 값 : 16\n",
      "행렬 an : [3, 7, 13, 21, 31, 43, 57]\n",
      "행렬 bn : [4, 6, 8, 10, 12, 14, 16]\n"
     ]
    }
   ],
   "source": [
    "# 다음 수열을 보고 n번째 항의 값을 출력하는 프로그램 만들기\n",
    "# an ={3, 7, 13, 21, 31, 43, 57}\n",
    "# bn은 4, 6, 8, 10, 12, 14 이런식임\n",
    "\n",
    "in_a01 = int((input('a1 입력: ')))\n",
    "in_an = int((input('an 입력: ')))\n",
    "\n",
    "in_b01 = int((input('b1 입력: ')))\n",
    "in_bd = int((input('bn 공차 입력: ')))\n",
    "\n",
    "value_an = 0\n",
    "value_bn = 0\n",
    "\n",
    "# 반복문을 활용\n",
    "\n",
    "n = 1\n",
    "an = []\n",
    "bn = []\n",
    "while n <= in_an:\n",
    "    \n",
    "    if n == 1:\n",
    "        value_an = in_a01\n",
    "        value_bn = in_b01\n",
    "        print(\"an의 {0}번째 항의 값 : {1}\".format(n, value_an))\n",
    "        print(\"bn의 {0}번째 항의 값 : {1}\".format(n, value_bn))\n",
    "        an.append(value_an)\n",
    "        bn.append(value_bn)\n",
    "        n += 1\n",
    "        continue\n",
    "    \n",
    "    value_an = value_an + value_bn\n",
    "    value_bn = value_bn + in_bd\n",
    "    \n",
    "    print(\"an의 {0}번째 항의 값 : {1}\".format(n, value_an))\n",
    "    print(\"bn의 {0}번째 항의 값 : {1}\".format(n, value_bn))\n",
    "    an.append(value_an)\n",
    "    bn.append(value_bn)\n",
    "    n += 1\n",
    "    \n",
    "print(\"an의 {0}번째 항의 값 : {1}\".format(n, value_an))\n",
    "print(\"bn의 {0}번째 항의 값 : {1}\".format(n, value_bn))\n",
    "\n",
    "print(\"행렬 an : {}\".format(an))\n",
    "print(\"행렬 bn : {}\".format(bn))\n",
    "\n",
    "#일반항 구하기"
   ]
  },
  {
   "cell_type": "code",
   "execution_count": 38,
   "metadata": {},
   "outputs": [
    {
     "name": "stdout",
     "output_type": "stream",
     "text": [
      "an의 7번째 항의 값 : 57\n"
     ]
    }
   ],
   "source": [
    "#계차 수열을 일반항으로 \n",
    "in_a01 = int((input('a1 입력: ')))\n",
    "in_an = int((input('an 입력: ')))\n",
    "\n",
    "# in_b01 = int((input('b1 입력: ')))\n",
    "# in_bd = int((input('bn 공차 입력: ')))\n",
    "\n",
    "# n^2 + n + 1 =an\n",
    "\n",
    "value_an = in_an ** 2 + in_an + 1\n",
    "print(\"an의 {0}번째 항의 값 : {1}\".format(in_an, value_an))"
   ]
  },
  {
   "cell_type": "markdown",
   "metadata": {},
   "source": [
    "## 피보나치 수열\n",
    "\n",
    "- an = a(n-2) + a(n-1) 항\n",
    "\n",
    "세 번째 항은 두 번째 항과 첫 번째 항을 더한 값\n",
    "\n",
    "\n"
   ]
  },
  {
   "cell_type": "code",
   "execution_count": 41,
   "metadata": {},
   "outputs": [
    {
     "name": "stdout",
     "output_type": "stream",
     "text": [
      "10번째 항의 값 : 55\n",
      "10번째 항까지의 합 : 143\n"
     ]
    }
   ],
   "source": [
    "# 피보나치를 구현하는 가장 기본적인 방법\n",
    "input_n = int(input(\"n 값을 입력 : \"))\n",
    "valuen = 0\n",
    "sum_n = 0\n",
    "value_pren2 = 0\n",
    "value_pren1 = 0\n",
    "\n",
    "# 반복문을 활용\n",
    "\n",
    "n = 1\n",
    "while n <= input_n:\n",
    "    if n == 1 or n == 2:\n",
    "        valuen = 1\n",
    "        value_pren2 = valuen\n",
    "        value_pren1 = valuen\n",
    "        sum_n += valuen\n",
    "        \n",
    "        n += 1\n",
    "        \n",
    "    else:\n",
    "        valuen = value_pren2 + value_pren1\n",
    "        value_pren2 = value_pren1\n",
    "        value_pren1 = valuen\n",
    "        sum_n += valuen\n",
    "        n += 1\n",
    "        \n",
    "print(\"{0}번째 항의 값 : {1}\".format(input_n, valuen))\n",
    "print(\"{0}번째 항까지의 합 : {1}\".format(input_n, sum_n))\n"
   ]
  },
  {
   "cell_type": "code",
   "execution_count": null,
   "metadata": {},
   "outputs": [],
   "source": [
    "# 람다 함수를 이용한 피보나치 구하기\n",
    "fib = lambda n: 1 if n<=2 else fib(n-1) + fib(n-2)\n",
    "\n",
    "fib(5)"
   ]
  },
  {
   "cell_type": "code",
   "execution_count": null,
   "metadata": {},
   "outputs": [],
   "source": []
  }
 ],
 "metadata": {
  "interpreter": {
   "hash": "9d3bae0a0f66551680ef8a166f6b92cc2774d5d7901f027deb7bb883ed06d5ae"
  },
  "kernelspec": {
   "display_name": "Python 3.9.7 64-bit ('base': conda)",
   "language": "python",
   "name": "python3"
  },
  "language_info": {
   "codemirror_mode": {
    "name": "ipython",
    "version": 3
   },
   "file_extension": ".py",
   "mimetype": "text/x-python",
   "name": "python",
   "nbconvert_exporter": "python",
   "pygments_lexer": "ipython3",
   "version": "3.9.7"
  },
  "orig_nbformat": 4
 },
 "nbformat": 4,
 "nbformat_minor": 2
}
